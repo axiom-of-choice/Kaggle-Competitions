{
 "cells": [
  {
   "cell_type": "code",
   "execution_count": null,
   "id": "16118e28",
   "metadata": {
    "papermill": {
     "duration": 0.004001,
     "end_time": "2022-12-02T04:36:36.400011",
     "exception": false,
     "start_time": "2022-12-02T04:36:36.396010",
     "status": "completed"
    },
    "tags": []
   },
   "outputs": [],
   "source": []
  }
 ],
 "metadata": {
  "kernelspec": {
   "display_name": "Python 3",
   "language": "python",
   "name": "python3"
  },
  "language_info": {
   "codemirror_mode": {
    "name": "ipython",
    "version": 3
   },
   "file_extension": ".py",
   "mimetype": "text/x-python",
   "name": "python",
   "nbconvert_exporter": "python",
   "pygments_lexer": "ipython3",
   "version": "3.7.12"
  },
  "papermill": {
   "default_parameters": {},
   "duration": 11.40919,
   "end_time": "2022-12-02T04:36:37.230103",
   "environment_variables": {},
   "exception": null,
   "input_path": "__notebook__.ipynb",
   "output_path": "__notebook__.ipynb",
   "parameters": {},
   "start_time": "2022-12-02T04:36:25.820913",
   "version": "2.3.4"
  }
 },
 "nbformat": 4,
 "nbformat_minor": 5
}
